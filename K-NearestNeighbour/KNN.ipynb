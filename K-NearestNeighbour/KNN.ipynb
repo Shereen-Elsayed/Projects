{
 "cells": [
  {
   "cell_type": "markdown",
   "metadata": {},
   "source": [
    "## Exercise 2: Optimize and Compare KNN algorithm"
   ]
  },
  {
   "cell_type": "code",
   "execution_count": 2,
   "metadata": {},
   "outputs": [
    {
     "name": "stdout",
     "output_type": "stream",
     "text": [
      "rows,cols 1599 12\n"
     ]
    }
   ],
   "source": [
    "import matplotlib.pyplot as plt\n",
    "from sklearn import preprocessing\n",
    "import numpy as np\n",
    "import math as m\n",
    "import pandas as pd\n",
    "import csv\n",
    "#pyt.figure()\n",
    "\n",
    "path ='/home/shero/Desktop/MLLab/Ex7/winequality-red.csv'\n",
    "Y_Data=0\n",
    "X_Data=pd.read_csv(path, sep=\";\",header=0)\n",
    "rows,cols=X_Data.shape\n",
    "#taking the price as the target \n",
    "print('rows,cols',rows,cols)\n",
    "Y_Data=X_Data.iloc[:,-1]\n",
    "del X_Data['quality']\n",
    "X_Data=pd.get_dummies(X_Data)\n",
    "X_Data=preprocessing.normalize(X_Data)\n",
    "X_Data=pd.DataFrame(X_Data)\n",
    "#droping the rows with all zerosor all nans\n",
    "X_Data=X_Data.dropna(axis=0, how='all')\n",
    "X_Data = X_Data[(X_Data.T != 0).any()]\n",
    "\n",
    "#############################splitting the data into training and testing#######################\n",
    "split_amount=m.floor(len(X_Data)* 0.7)\n",
    "X_train=X_Data.loc[0:split_amount,:]\n",
    "Y_train=Y_Data.loc[0:split_amount]\n",
    "X_test=X_Data.loc[split_amount:len(X_Data),:]\n",
    "Y_test=Y_Data.loc[split_amount:len(X_Data)]\n",
    "\n"
   ]
  },
  {
   "cell_type": "markdown",
   "metadata": {},
   "source": [
    "## Exersice 2 part A Determine Optimal Value of K in KNN algorithm"
   ]
  },
  {
   "cell_type": "code",
   "execution_count": 4,
   "metadata": {},
   "outputs": [
    {
     "name": "stdout",
     "output_type": "stream",
     "text": [
      "k=    33\n",
      "RMSE for k Nearest Neighbor:  0.836584566779556\n"
     ]
    }
   ],
   "source": [
    "\n",
    "def Euclidean_Distance(x1,x2):\n",
    "    distance=m.sqrt((np.sum(x1-x2)**2))\n",
    "    return distance\n",
    "\n",
    "\n",
    "def KNN(x_check,X_Train,Y_Train,k):\n",
    "    D=np.zeros((len(X_Train),2))\n",
    "    Min=np.zeros((k,2))\n",
    "    acc=0\n",
    "    #print(x_check)\n",
    "    for n in range(0,len(D)):\n",
    "        D[n][0]=Euclidean_Distance(x_check,X_Train.iloc[n,:])\n",
    "        D[n][1]=Y_Train.iloc[n]  \n",
    "    \n",
    "    sorted_Vec=sorted(D, key=lambda a_entry: a_entry[0]) \n",
    "    Min=sorted_Vec[0:k]\n",
    "    for z in range(len(Min)):\n",
    "        acc=acc+(Min[z][1])\n",
    "        \n",
    "    #calculating the mean for the prediction\n",
    "    y_hat=(1/k)*(acc)\n",
    "    return y_hat\n",
    "\n",
    "\n",
    "\n",
    "Y_test=Y_test.values.reshape((len(Y_test),1))\n",
    "#print(Y_test.shape)\n",
    "print('k=   ',m.floor(m.sqrt(len(X_train))))\n",
    "k=m.floor(m.sqrt(len(X_train)))\n",
    "y_hat=np.zeros((len(X_test),1))\n",
    "for t in range(0,len(X_test)):\n",
    "    y_hat[t]=KNN(X_test.iloc[t,:],X_train,Y_train,k)\n",
    "\n",
    "diff=Y_test-y_hat\n",
    "\n",
    "print('RMSE for k Nearest Neighbor: ',m.sqrt(np.sum((diff)**2)/len(Y_test)))\n",
    "\n",
    "\n",
    "\n"
   ]
  },
  {
   "cell_type": "markdown",
   "metadata": {},
   "source": [
    "## The choice of K equal to the square root of the number of instances in training data is a rule-of-thumb popularized by the \"Pattern Classification\" book by Duda et al.\n",
    "\n",
    "Reference:\n",
    "Duda, Richard O., Peter E. Hart, and David G. Stork. Pattern classification. John Wiley & Sons, 2012."
   ]
  },
  {
   "cell_type": "markdown",
   "metadata": {},
   "source": [
    "## Give evidence that your chosen value is better than other values of K"
   ]
  },
  {
   "cell_type": "code",
   "execution_count": 5,
   "metadata": {},
   "outputs": [
    {
     "name": "stdout",
     "output_type": "stream",
     "text": [
      "RMSE for Nearest Neighbor for k=  5  is  0.898795490272027\n",
      "RMSE for Nearest Neighbor for k=  10  is  0.8502940667792526\n",
      "RMSE for Nearest Neighbor for k=  20  is  0.845570566737829\n",
      "RMSE for Nearest Neighbor for k=  25  is  0.8468234762924325\n",
      "RMSE for Nearest Neighbor for k=  40  is  0.8339000677039585\n"
     ]
    }
   ],
   "source": [
    "\n",
    "def Euclidean_Distance(x1,x2):\n",
    "    distance=m.sqrt((np.sum(x1-x2)**2))\n",
    "    return distance\n",
    "\n",
    "\n",
    "def KNN(x_check,X_Train,Y_Train,k):\n",
    "    D=np.zeros((len(X_Train),2))\n",
    "    Min=np.zeros((k,2))\n",
    "    acc=0\n",
    "    for n in range(0,len(D)):\n",
    "        D[n][0]=Euclidean_Distance(x_check,X_Train.iloc[n,:])\n",
    "        D[n][1]=Y_Train.iloc[n]  \n",
    "    sorted_Vec=sorted(D, key=lambda a_entry: a_entry[0]) \n",
    "    #print(sorted_Vec)\n",
    "    Min=sorted_Vec[0:k]\n",
    "    for z in range(len(Min)):\n",
    "        acc=acc+(Min[z][1])\n",
    "        \n",
    "    #calculating the mean for the prediction\n",
    "    y_hat=(1/k)*(acc)\n",
    "    return y_hat\n",
    "\n",
    "\n",
    "\n",
    "Y_test=Y_test.reshape((len(Y_test),1))\n",
    "\n",
    "possible_k_values=[5,10,20,25,40]\n",
    "for v in range(0,len(possible_k_values)):\n",
    "    k=possible_k_values[v]\n",
    "    y_hat=np.zeros((len(X_test),1))\n",
    "    for t in range(0,len(X_test)):\n",
    "        y_hat[t]=KNN(X_test.iloc[t,:],X_train,Y_train,k)\n",
    "\n",
    "    diff=Y_test-y_hat\n",
    "\n",
    "    print('RMSE for Nearest Neighbor for k= ',k,' is ',m.sqrt(np.sum((diff)**2)/len(Y_test)))\n",
    "\n",
    "\n",
    "\n",
    "\n",
    "\n"
   ]
  },
  {
   "cell_type": "markdown",
   "metadata": {},
   "source": [
    "## Using the criterion chosen the best k selected was 33 where it gives RMSE of 0.836.It is better than all the other options, but it is very close to k=40 which is a little bit better with RMSE =0.833 but given the less computations done with k=33 it is considered better."
   ]
  }
 ],
 "metadata": {
  "kernelspec": {
   "display_name": "Python 3",
   "language": "python",
   "name": "python3"
  },
  "language_info": {
   "codemirror_mode": {
    "name": "ipython",
    "version": 3
   },
   "file_extension": ".py",
   "mimetype": "text/x-python",
   "name": "python",
   "nbconvert_exporter": "python",
   "pygments_lexer": "ipython3",
   "version": "3.6.6"
  }
 },
 "nbformat": 4,
 "nbformat_minor": 2
}
