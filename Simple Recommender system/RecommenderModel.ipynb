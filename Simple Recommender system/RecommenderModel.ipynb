{
 "cells": [
  {
   "cell_type": "markdown",
   "metadata": {},
   "source": [
    "## Recommender System Challenge Name: Shereen Elsayed, Number:278667"
   ]
  },
  {
   "cell_type": "code",
   "execution_count": 7,
   "metadata": {},
   "outputs": [
    {
     "name": "stdout",
     "output_type": "stream",
     "text": [
      "Firstly NMF===============================\n",
      "Evaluating RMSE, MAE of algorithm NMF on 5 split(s).\n",
      "\n",
      "                  Fold 1  Fold 2  Fold 3  Fold 4  Fold 5  Mean    Std     \n",
      "RMSE (testset)    0.9433  0.9412  0.9401  0.9434  0.9399  0.9416  0.0015  \n",
      "MAE (testset)     0.7583  0.7561  0.7569  0.7581  0.7550  0.7569  0.0012  \n",
      "Fit time          108.37  106.00  116.62  118.20  144.48  118.73  13.69   \n",
      "Test time         2.84    2.96    3.21    3.74    3.81    3.31    0.40    \n",
      "Secondly SVD ===============================\n",
      "Evaluating RMSE, MAE of algorithm SVD on 5 split(s).\n",
      "\n",
      "                  Fold 1  Fold 2  Fold 3  Fold 4  Fold 5  Mean    Std     \n",
      "RMSE (testset)    0.8844  0.8825  0.8822  0.8815  0.8830  0.8827  0.0009  \n",
      "MAE (testset)     0.6954  0.6940  0.6941  0.6931  0.6943  0.6942  0.0007  \n",
      "Fit time          145.00  147.03  138.05  140.22  135.40  141.14  4.31    \n",
      "Test time         9.06    4.49    4.59    4.67    4.51    5.46    1.80    \n",
      "Secondly SVDpp ===============================\n",
      "Evaluating RMSE, MAE of algorithm SVDpp on 5 split(s).\n",
      "\n",
      "                  Fold 1  Fold 2  Fold 3  Fold 4  Fold 5  Mean    Std     \n",
      "RMSE (testset)    0.8727  0.8694  0.8691  0.8694  0.8696  0.8700  0.0013  \n",
      "MAE (testset)     0.6827  0.6789  0.6790  0.6792  0.6797  0.6799  0.0014  \n",
      "Fit time          8741.19 8317.80 8213.12 8331.10 8252.35 8371.11 189.98  \n",
      "Test time         110.85  110.25  108.77  108.45  108.21  109.30  1.05    \n"
     ]
    },
    {
     "data": {
      "text/plain": [
       "{'test_rmse': array([0.87267329, 0.869373  , 0.86906156, 0.86944287, 0.86955135]),\n",
       " 'test_mae': array([0.68265375, 0.67893144, 0.67900333, 0.6791685 , 0.67974963]),\n",
       " 'fit_time': (8741.185550928116,\n",
       "  8317.796067714691,\n",
       "  8213.118877410889,\n",
       "  8331.095483064651,\n",
       "  8252.350466251373),\n",
       " 'test_time': (110.84745502471924,\n",
       "  110.24798798561096,\n",
       "  108.7677264213562,\n",
       "  108.44753646850586,\n",
       "  108.21126580238342)}"
      ]
     },
     "execution_count": 7,
     "metadata": {},
     "output_type": "execute_result"
    }
   ],
   "source": [
    "from surprise import SVD,NMF,SVDpp\n",
    "from surprise import Dataset\n",
    "import pandas as pd\n",
    "import numpy as np\n",
    "from surprise import Reader\n",
    "import os\n",
    "from surprise.model_selection import cross_validate\n",
    "\n",
    "path='/home/shero/Desktop/MLLab/christmas Challenge/Train.data'\n",
    "train =pd.read_csv(path, sep=\",\",header=0)\n",
    "# A reader is still needed but only the rating_scale param is requiered.\n",
    "reader = Reader( rating_scale=(0, 5), sep=',')\n",
    "# The columns must correspond to user id, item id and ratings (in that order).\n",
    "trainset = Dataset.load_from_df(train[['planet', 'person', 'score']],reader=reader)\n",
    "#testset = Dataset.load_from_df(df1[['planet', 'person']],reader=reader1)\n",
    "# We can now use this dataset as we please, e.g. calling cross_validate\n",
    "# Use the famous SVD algorithm.\n",
    "algo = NMF()\n",
    "algo1=SVD()\n",
    "algo2=SVDpp()\n",
    "print('Firstly NMF===============================')\n",
    "# Run 5-fold cross-validation and print results.\n",
    "cross_validate(algo, trainset, measures=['RMSE', 'MAE'], cv=5, verbose=True)\n",
    "print('Secondly SVD ===============================')\n",
    "cross_validate(algo1, trainset, measures=['RMSE', 'MAE'], cv=5, verbose=True)\n",
    "print('Thirdly SVDpp ===============================')\n",
    "cross_validate(algo2, trainset, measures=['RMSE', 'MAE'], cv=5, verbose=True)\n",
    "#algo.train(trainset)\n",
    "#predictions = algo.test(testset)\n",
    "# Compute and print Root Mean Squared Error\n",
    "#rmse = accuracy.rmse(predictions, verbose=True)\n",
    "\n",
    "#print(rmse)\n"
   ]
  },
  {
   "cell_type": "markdown",
   "metadata": {},
   "source": [
    "## Applying on test data with the model that gave best RMSE which is SVD pluse pluse"
   ]
  },
  {
   "cell_type": "code",
   "execution_count": 17,
   "metadata": {},
   "outputs": [],
   "source": [
    "from surprise import SVD,NMF,SVDpp\n",
    "from surprise import Dataset\n",
    "import pandas as pd\n",
    "import numpy as np\n",
    "from surprise import Reader\n",
    "import os\n",
    "\n",
    "path='/home/shero/Desktop/MLLab/christmas Challenge/Test.data'\n",
    "test =pd.read_csv(path, sep=\",\",header=0)\n",
    "\n",
    "path='/home/shero/Desktop/MLLab/christmas Challenge/Train.data'\n",
    "train =pd.read_csv(path, sep=\",\",header=0)\n",
    "# A reader is still needed but only the rating_scale param is requiered.\n",
    "reader = Reader( rating_scale=(0, 5), sep=',')\n",
    "# The columns must correspond to user id, item id and ratings (in that order).\n",
    "trainset = Dataset.load_from_df(train[['planet', 'person', 'score']],reader=reader)\n",
    "\n",
    "#reader1 = Reader()\n",
    "#testset = Dataset.load_from_df(test[['planet', 'person']],reader=reader1)\n",
    "#df1 = Dataset.load_from_file('/home/shero/Desktop/MLLab/christmas Challenge/Test.data', reader=reader1)\n",
    "\n",
    "Model = SVDpp()\n",
    "trainset = trainset.build_full_trainset()\n",
    "# Train the algorithm on the trainset, and predict ratings for the testset\n",
    "Model.fit(trainset)\n",
    "predictions=[]\n",
    "for i in range(0,len(test)):\n",
    "    estimation=Model.predict(test.iloc[i,0],test.iloc[i,1])\n",
    "    predictions.append([estimation.uid,estimation.est])\n",
    "    \n",
    "\n",
    "#print(predictions)\n",
    "\n",
    "df = pd.DataFrame(np.array(predictions).reshape(len(test),2), columns = ['person','score'])\n",
    "df.groupby(['user'], as_index=False).mean()\n",
    "#print(df)\n",
    "df.to_csv(\"/home/shero/Desktop/MLLab/christmas Challenge/Challenge_submission.csv\", sep='\\t')"
   ]
  },
  {
   "cell_type": "markdown",
   "metadata": {},
   "source": [
    "## First step I tried more than one matrix factorization based models ( Singular Value Decomposition (SVD), SVD plus plus and NMF)on the training set using cross validation to check the model with lowest RMSE.Then applied that model on the test data to get the predictions, afterwards calculate the average score for each user and write them on csv file. The SVD plus plus showed the best RMSE.\n"
   ]
  },
  {
   "cell_type": "code",
   "execution_count": null,
   "metadata": {},
   "outputs": [],
   "source": []
  }
 ],
 "metadata": {
  "kernelspec": {
   "display_name": "Python 3",
   "language": "python",
   "name": "python3"
  },
  "language_info": {
   "codemirror_mode": {
    "name": "ipython",
    "version": 3
   },
   "file_extension": ".py",
   "mimetype": "text/x-python",
   "name": "python",
   "nbconvert_exporter": "python",
   "pygments_lexer": "ipython3",
   "version": "3.6.6"
  }
 },
 "nbformat": 4,
 "nbformat_minor": 2
}
